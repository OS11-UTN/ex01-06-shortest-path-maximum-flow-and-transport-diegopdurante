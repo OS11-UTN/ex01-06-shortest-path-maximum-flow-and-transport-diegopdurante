{
 "cells": [
  {
   "cell_type": "code",
   "execution_count": 1,
   "metadata": {},
   "outputs": [],
   "source": [
    "import numpy as np\n",
    "import pandas as pd\n",
    "from scipy.optimize import linprog\n",
    "\n",
    "from mis_utils import *"
   ]
  },
  {
   "cell_type": "code",
   "execution_count": 2,
   "metadata": {},
   "outputs": [
    {
     "name": "stdout",
     "output_type": "stream",
     "text": [
      "[[0 1]\n",
      " [0 2]\n",
      " [1 3]\n",
      " [1 5]\n",
      " [2 4]\n",
      " [3 5]\n",
      " [4 5]]\n",
      "Input: \n",
      " [[0 1 1 0 0 0]\n",
      " [0 0 0 1 0 1]\n",
      " [0 0 0 0 1 0]\n",
      " [0 0 0 0 0 1]\n",
      " [0 0 0 0 0 1]\n",
      " [0 0 0 0 0 0]]\n",
      "\n",
      "Column names: s2-s3-24-2t-35-4t-5t\n",
      "\n",
      "Output: \n",
      " [[ 1  1  0  0  0  0  0]\n",
      " [-1  0  1  1  0  0  0]\n",
      " [ 0 -1  0  0  1  0  0]\n",
      " [ 0  0 -1  0  0  1  0]\n",
      " [ 0  0  0  0 -1  0  1]\n",
      " [ 0  0  0 -1  0 -1 -1]]\n",
      "\n"
     ]
    }
   ],
   "source": [
    "# Definiciones de constantes\n",
    "\n",
    "node_names = np.array(('s', '2', '3', '4', '5', 't'))\n",
    "\n",
    "# Balances: Sale desde s y llega hasta t\n",
    "beq = np.array([1, 0, 0, 0, 0, -1])\n",
    "\n",
    "NN = np.array([[0, 1, 1, 0, 0, 0],\n",
    "               [0, 0, 0, 1, 0, 1],\n",
    "               [0, 0, 0, 0, 1, 0],\n",
    "               [0, 0, 0, 0, 0, 1],\n",
    "               [0, 0, 0, 0, 0, 1],\n",
    "               [0, 0, 0, 0, 0, 0]])\n",
    "\n",
    "# Matrices resultantes de NN a NA\n",
    "Aeq, arc_idxs = nn2na(NN, node_names = node_names, show_results = True)\n",
    "\n",
    "# Guardo los nombres de los nodo-arco-nodo posibles\n",
    "nan_names = get_col_names(NN, node_names, as_numpy=True)\n",
    "\n",
    "# Restricciones, l <= x <= u\n",
    "# Entre 0 e infinito\n",
    "bounds = tuple([(0, None) for arcs in range(0, Aeq.shape[1])])"
   ]
  },
  {
   "cell_type": "code",
   "execution_count": 3,
   "metadata": {},
   "outputs": [],
   "source": [
    "# Vector de costos\n",
    "# Con el orden de los nombres de columnas, sacado de los resultados. Column names: s2-s3-24-2t-35-4t-5t\n",
    "C = np.array([2, 2, 2, 5, 2, 1, 2])"
   ]
  },
  {
   "cell_type": "code",
   "execution_count": 4,
   "metadata": {},
   "outputs": [
    {
     "data": {
      "text/html": [
       "<div>\n",
       "<style scoped>\n",
       "    .dataframe tbody tr th:only-of-type {\n",
       "        vertical-align: middle;\n",
       "    }\n",
       "\n",
       "    .dataframe tbody tr th {\n",
       "        vertical-align: top;\n",
       "    }\n",
       "\n",
       "    .dataframe thead th {\n",
       "        text-align: right;\n",
       "    }\n",
       "</style>\n",
       "<table border=\"1\" class=\"dataframe\">\n",
       "  <thead>\n",
       "    <tr style=\"text-align: right;\">\n",
       "      <th></th>\n",
       "      <th>s</th>\n",
       "      <th>2</th>\n",
       "      <th>3</th>\n",
       "      <th>4</th>\n",
       "      <th>5</th>\n",
       "      <th>t</th>\n",
       "    </tr>\n",
       "  </thead>\n",
       "  <tbody>\n",
       "    <tr>\n",
       "      <th>0</th>\n",
       "      <td>0</td>\n",
       "      <td>1</td>\n",
       "      <td>1</td>\n",
       "      <td>0</td>\n",
       "      <td>0</td>\n",
       "      <td>0</td>\n",
       "    </tr>\n",
       "    <tr>\n",
       "      <th>1</th>\n",
       "      <td>0</td>\n",
       "      <td>0</td>\n",
       "      <td>0</td>\n",
       "      <td>1</td>\n",
       "      <td>0</td>\n",
       "      <td>1</td>\n",
       "    </tr>\n",
       "    <tr>\n",
       "      <th>2</th>\n",
       "      <td>0</td>\n",
       "      <td>0</td>\n",
       "      <td>0</td>\n",
       "      <td>0</td>\n",
       "      <td>1</td>\n",
       "      <td>0</td>\n",
       "    </tr>\n",
       "    <tr>\n",
       "      <th>3</th>\n",
       "      <td>0</td>\n",
       "      <td>0</td>\n",
       "      <td>0</td>\n",
       "      <td>0</td>\n",
       "      <td>0</td>\n",
       "      <td>1</td>\n",
       "    </tr>\n",
       "    <tr>\n",
       "      <th>4</th>\n",
       "      <td>0</td>\n",
       "      <td>0</td>\n",
       "      <td>0</td>\n",
       "      <td>0</td>\n",
       "      <td>0</td>\n",
       "      <td>1</td>\n",
       "    </tr>\n",
       "    <tr>\n",
       "      <th>5</th>\n",
       "      <td>0</td>\n",
       "      <td>0</td>\n",
       "      <td>0</td>\n",
       "      <td>0</td>\n",
       "      <td>0</td>\n",
       "      <td>0</td>\n",
       "    </tr>\n",
       "  </tbody>\n",
       "</table>\n",
       "</div>"
      ],
      "text/plain": [
       "   s  2  3  4  5  t\n",
       "0  0  1  1  0  0  0\n",
       "1  0  0  0  1  0  1\n",
       "2  0  0  0  0  1  0\n",
       "3  0  0  0  0  0  1\n",
       "4  0  0  0  0  0  1\n",
       "5  0  0  0  0  0  0"
      ]
     },
     "execution_count": 4,
     "metadata": {},
     "output_type": "execute_result"
    }
   ],
   "source": [
    "pd.DataFrame(data=NN, columns=node_names)"
   ]
  },
  {
   "cell_type": "code",
   "execution_count": 5,
   "metadata": {},
   "outputs": [
    {
     "data": {
      "text/html": [
       "<div>\n",
       "<style scoped>\n",
       "    .dataframe tbody tr th:only-of-type {\n",
       "        vertical-align: middle;\n",
       "    }\n",
       "\n",
       "    .dataframe tbody tr th {\n",
       "        vertical-align: top;\n",
       "    }\n",
       "\n",
       "    .dataframe thead th {\n",
       "        text-align: right;\n",
       "    }\n",
       "</style>\n",
       "<table border=\"1\" class=\"dataframe\">\n",
       "  <thead>\n",
       "    <tr style=\"text-align: right;\">\n",
       "      <th></th>\n",
       "      <th>s2</th>\n",
       "      <th>s3</th>\n",
       "      <th>24</th>\n",
       "      <th>2t</th>\n",
       "      <th>35</th>\n",
       "      <th>4t</th>\n",
       "      <th>5t</th>\n",
       "    </tr>\n",
       "  </thead>\n",
       "  <tbody>\n",
       "    <tr>\n",
       "      <th>0</th>\n",
       "      <td>1</td>\n",
       "      <td>1</td>\n",
       "      <td>0</td>\n",
       "      <td>0</td>\n",
       "      <td>0</td>\n",
       "      <td>0</td>\n",
       "      <td>0</td>\n",
       "    </tr>\n",
       "    <tr>\n",
       "      <th>1</th>\n",
       "      <td>-1</td>\n",
       "      <td>0</td>\n",
       "      <td>1</td>\n",
       "      <td>1</td>\n",
       "      <td>0</td>\n",
       "      <td>0</td>\n",
       "      <td>0</td>\n",
       "    </tr>\n",
       "    <tr>\n",
       "      <th>2</th>\n",
       "      <td>0</td>\n",
       "      <td>-1</td>\n",
       "      <td>0</td>\n",
       "      <td>0</td>\n",
       "      <td>1</td>\n",
       "      <td>0</td>\n",
       "      <td>0</td>\n",
       "    </tr>\n",
       "    <tr>\n",
       "      <th>3</th>\n",
       "      <td>0</td>\n",
       "      <td>0</td>\n",
       "      <td>-1</td>\n",
       "      <td>0</td>\n",
       "      <td>0</td>\n",
       "      <td>1</td>\n",
       "      <td>0</td>\n",
       "    </tr>\n",
       "    <tr>\n",
       "      <th>4</th>\n",
       "      <td>0</td>\n",
       "      <td>0</td>\n",
       "      <td>0</td>\n",
       "      <td>0</td>\n",
       "      <td>-1</td>\n",
       "      <td>0</td>\n",
       "      <td>1</td>\n",
       "    </tr>\n",
       "    <tr>\n",
       "      <th>5</th>\n",
       "      <td>0</td>\n",
       "      <td>0</td>\n",
       "      <td>0</td>\n",
       "      <td>-1</td>\n",
       "      <td>0</td>\n",
       "      <td>-1</td>\n",
       "      <td>-1</td>\n",
       "    </tr>\n",
       "  </tbody>\n",
       "</table>\n",
       "</div>"
      ],
      "text/plain": [
       "   s2  s3  24  2t  35  4t  5t\n",
       "0   1   1   0   0   0   0   0\n",
       "1  -1   0   1   1   0   0   0\n",
       "2   0  -1   0   0   1   0   0\n",
       "3   0   0  -1   0   0   1   0\n",
       "4   0   0   0   0  -1   0   1\n",
       "5   0   0   0  -1   0  -1  -1"
      ]
     },
     "execution_count": 5,
     "metadata": {},
     "output_type": "execute_result"
    }
   ],
   "source": [
    "pd.DataFrame(data=Aeq, columns=nan_names)"
   ]
  },
  {
   "cell_type": "code",
   "execution_count": 6,
   "metadata": {},
   "outputs": [
    {
     "name": "stdout",
     "output_type": "stream",
     "text": [
      "## Optimizer inputs ## \n",
      "\n",
      "Cost vector: [2 2 2 5 2 1 2] \n",
      "\n",
      "Columns: ['s2' 's3' '24' '2t' '35' '4t' '5t'] \n",
      "\n",
      "A_eq Node-Arc matrix:\n",
      "[[ 1  1  0  0  0  0  0]\n",
      " [-1  0  1  1  0  0  0]\n",
      " [ 0 -1  0  0  1  0  0]\n",
      " [ 0  0 -1  0  0  1  0]\n",
      " [ 0  0  0  0 -1  0  1]\n",
      " [ 0  0  0 -1  0 -1 -1]] \n",
      "\n",
      "b_eq demand-supply vector: [ 1  0  0  0  0 -1] \n",
      "\n",
      "Bounds of each X arc variable: ((0, None), (0, None), (0, None), (0, None), (0, None), (0, None), (0, None)) \n",
      "\n"
     ]
    }
   ],
   "source": [
    "# Resumen\n",
    "print('## Optimizer inputs ## \\n\\n'\n",
    "      'Cost vector: %s \\n\\n'\n",
    "      'Columns: %s \\n\\n'\n",
    "      'A_eq Node-Arc matrix:\\n%s \\n\\n'\n",
    "      'b_eq demand-supply vector: %s \\n\\n'\n",
    "      'Bounds of each X arc variable: %s \\n' % (C, nan_names, Aeq, beq, bounds))"
   ]
  },
  {
   "cell_type": "code",
   "execution_count": 7,
   "metadata": {},
   "outputs": [],
   "source": [
    "len_nodes = NN.shape[0]\n",
    "initial_node = 0"
   ]
  },
  {
   "cell_type": "markdown",
   "metadata": {},
   "source": [
    "# Dijkstra"
   ]
  },
  {
   "cell_type": "markdown",
   "metadata": {},
   "source": [
    "## Pasar a función"
   ]
  },
  {
   "cell_type": "code",
   "execution_count": 8,
   "metadata": {},
   "outputs": [
    {
     "name": "stdout",
     "output_type": "stream",
     "text": [
      "\n",
      "Sin explorar:  [0, 1, 2, 3, 4, 5]\n",
      "Pesos de los nodos sin explorar:  [0.0, inf, inf, inf, inf, inf]\n",
      "Nodo elegido  s\n",
      "s  =>  2  con un costo de  2\n",
      "s  =>  3  con un costo de  2\n",
      "[ 0.  2.  2. inf inf inf]\n",
      "[0 0 0 0 0 0]\n",
      "Tabla de pesos:\n",
      " [[ 0.  2.  2. inf inf inf]\n",
      " [ 0.  2.  2. inf inf inf]]\n",
      "Tabla de precedentes:\n",
      " [[0 0 0 0 0 0]\n",
      " [0 0 0 0 0 0]]\n",
      "\n",
      "\n",
      "Sin explorar:  [1, 2, 3, 4, 5]\n",
      "Pesos de los nodos sin explorar:  [2.0, 2.0, inf, inf, inf]\n",
      "Nodo elegido  2\n",
      "2  =>  4  con un costo de  2\n",
      "2  =>  t  con un costo de  5\n",
      "[ 0.  2.  2.  4. inf  7.]\n",
      "[0 0 0 1 0 1]\n",
      "Tabla de pesos:\n",
      " [[ 0.  2.  2. inf inf inf]\n",
      " [ 0.  2.  2. inf inf inf]\n",
      " [ 0.  2.  2.  4. inf  7.]]\n",
      "Tabla de precedentes:\n",
      " [[0 0 0 0 0 0]\n",
      " [0 0 0 0 0 0]\n",
      " [0 0 0 1 0 1]]\n",
      "\n",
      "\n",
      "Sin explorar:  [2, 3, 4, 5]\n",
      "Pesos de los nodos sin explorar:  [2.0, 4.0, inf, 7.0]\n",
      "Nodo elegido  3\n",
      "3  =>  5  con un costo de  2\n",
      "[0. 2. 2. 4. 4. 7.]\n",
      "[0 0 0 1 2 1]\n",
      "Tabla de pesos:\n",
      " [[ 0.  2.  2. inf inf inf]\n",
      " [ 0.  2.  2. inf inf inf]\n",
      " [ 0.  2.  2.  4. inf  7.]\n",
      " [ 0.  2.  2.  4.  4.  7.]]\n",
      "Tabla de precedentes:\n",
      " [[0 0 0 0 0 0]\n",
      " [0 0 0 0 0 0]\n",
      " [0 0 0 1 0 1]\n",
      " [0 0 0 1 2 1]]\n",
      "\n",
      "\n",
      "Sin explorar:  [3, 4, 5]\n",
      "Pesos de los nodos sin explorar:  [4.0, 4.0, 7.0]\n",
      "Nodo elegido  4\n",
      "4  =>  t  con un costo de  1\n",
      "[0. 2. 2. 4. 4. 5.]\n",
      "[0 0 0 1 2 3]\n",
      "Tabla de pesos:\n",
      " [[ 0.  2.  2. inf inf inf]\n",
      " [ 0.  2.  2. inf inf inf]\n",
      " [ 0.  2.  2.  4. inf  7.]\n",
      " [ 0.  2.  2.  4.  4.  7.]\n",
      " [ 0.  2.  2.  4.  4.  5.]]\n",
      "Tabla de precedentes:\n",
      " [[0 0 0 0 0 0]\n",
      " [0 0 0 0 0 0]\n",
      " [0 0 0 1 0 1]\n",
      " [0 0 0 1 2 1]\n",
      " [0 0 0 1 2 3]]\n",
      "\n",
      "\n",
      "Sin explorar:  [4, 5]\n",
      "Pesos de los nodos sin explorar:  [4.0, 5.0]\n",
      "Nodo elegido  5\n",
      "5  =>  t  con un costo de  2\n",
      "[0. 2. 2. 4. 4. 5.]\n",
      "[0 0 0 1 2 3]\n",
      "Tabla de pesos:\n",
      " [[ 0.  2.  2. inf inf inf]\n",
      " [ 0.  2.  2. inf inf inf]\n",
      " [ 0.  2.  2.  4. inf  7.]\n",
      " [ 0.  2.  2.  4.  4.  7.]\n",
      " [ 0.  2.  2.  4.  4.  5.]\n",
      " [ 0.  2.  2.  4.  4.  5.]]\n",
      "Tabla de precedentes:\n",
      " [[0 0 0 0 0 0]\n",
      " [0 0 0 0 0 0]\n",
      " [0 0 0 1 0 1]\n",
      " [0 0 0 1 2 1]\n",
      " [0 0 0 1 2 3]\n",
      " [0 0 0 1 2 3]]\n",
      "\n",
      "\n",
      "Sin explorar:  [5]\n",
      "Pesos de los nodos sin explorar:  [5.0]\n",
      "Nodo elegido  t\n",
      "[0. 2. 2. 4. 4. 5.]\n",
      "[0 0 0 1 2 3]\n",
      "Tabla de pesos:\n",
      " [[ 0.  2.  2. inf inf inf]\n",
      " [ 0.  2.  2. inf inf inf]\n",
      " [ 0.  2.  2.  4. inf  7.]\n",
      " [ 0.  2.  2.  4.  4.  7.]\n",
      " [ 0.  2.  2.  4.  4.  5.]\n",
      " [ 0.  2.  2.  4.  4.  5.]\n",
      " [ 0.  2.  2.  4.  4.  5.]]\n",
      "Tabla de precedentes:\n",
      " [[0 0 0 0 0 0]\n",
      " [0 0 0 0 0 0]\n",
      " [0 0 0 1 0 1]\n",
      " [0 0 0 1 2 1]\n",
      " [0 0 0 1 2 3]\n",
      " [0 0 0 1 2 3]\n",
      " [0 0 0 1 2 3]]\n",
      "\n"
     ]
    }
   ],
   "source": [
    "weights, prec = dijkstra(NN, C, node_names)"
   ]
  },
  {
   "cell_type": "code",
   "execution_count": 9,
   "metadata": {},
   "outputs": [],
   "source": [
    "# Muestro los resultados\n",
    "\n",
    "prec_actual = np.argwhere(node_names == 't')[0][0]\n",
    "prec_fin = np.argwhere(node_names == 's')[0][0]\n",
    "\n",
    "fin = False\n",
    "\n",
    "path = np.array(())\n",
    "w_path = np.array(())\n",
    "while not fin:\n",
    "    path = np.append(node_names[prec_actual], path)\n",
    "    w_path = np.append(weights[prec_actual], w_path)\n",
    "    prec_actual = prec[prec_actual]\n",
    "\n",
    "    if prec_actual == prec_fin:\n",
    "        fin = True\n",
    "\n",
    "path = np.append(node_names[prec_actual], path)\n",
    "w_path = np.append(weights[prec_actual], w_path)"
   ]
  },
  {
   "cell_type": "code",
   "execution_count": 10,
   "metadata": {},
   "outputs": [
    {
     "name": "stdout",
     "output_type": "stream",
     "text": [
      "Camino:  ['s' '2' '4' 't']\n"
     ]
    }
   ],
   "source": [
    "print(\"Camino: \", path)"
   ]
  },
  {
   "cell_type": "code",
   "execution_count": 11,
   "metadata": {},
   "outputs": [
    {
     "name": "stdout",
     "output_type": "stream",
     "text": [
      "Costos:  [0. 2. 4. 5.]\n"
     ]
    }
   ],
   "source": [
    "print(\"Costos: \", w_path)"
   ]
  },
  {
   "cell_type": "code",
   "execution_count": 12,
   "metadata": {},
   "outputs": [
    {
     "data": {
      "text/plain": [
       "{'B', 'C'}"
      ]
     },
     "execution_count": 12,
     "metadata": {},
     "output_type": "execute_result"
    }
   ],
   "source": [
    "set(['B', 'C'])"
   ]
  },
  {
   "cell_type": "code",
   "execution_count": 13,
   "metadata": {},
   "outputs": [
    {
     "data": {
      "text/plain": [
       "{'B', 'C'}"
      ]
     },
     "execution_count": 13,
     "metadata": {},
     "output_type": "execute_result"
    }
   ],
   "source": [
    "{'B', 'C'}"
   ]
  },
  {
   "cell_type": "code",
   "execution_count": 14,
   "metadata": {},
   "outputs": [
    {
     "name": "stdout",
     "output_type": "stream",
     "text": [
      "s\n",
      "3\n",
      "5\n",
      "t\n",
      "2\n",
      "4\n"
     ]
    },
    {
     "data": {
      "text/plain": [
       "{'2', '3', '4', '5', 's', 't'}"
      ]
     },
     "execution_count": 14,
     "metadata": {},
     "output_type": "execute_result"
    }
   ],
   "source": [
    "def dfs(graph, start, visited=None):\n",
    "    if visited is None:\n",
    "        visited = set()\n",
    "    visited.add(start)\n",
    "    print(start)\n",
    "    for next in graph[start] - visited:\n",
    "        dfs(graph, next, visited)\n",
    "    return visited\n",
    "\n",
    "graph = {'s': set(['2', '3']),\n",
    "         '2': set(['4', 't']),\n",
    "         '3': set(['5']),\n",
    "         '4': set(['t']),\n",
    "         '5': set(['t']),\n",
    "         't': set()}\n",
    "\n",
    "dfs(graph, 's')\n"
   ]
  },
  {
   "cell_type": "code",
   "execution_count": null,
   "metadata": {},
   "outputs": [],
   "source": []
  }
 ],
 "metadata": {
  "kernelspec": {
   "display_name": "Python 3",
   "language": "python",
   "name": "python3"
  },
  "language_info": {
   "codemirror_mode": {
    "name": "ipython",
    "version": 3
   },
   "file_extension": ".py",
   "mimetype": "text/x-python",
   "name": "python",
   "nbconvert_exporter": "python",
   "pygments_lexer": "ipython3",
   "version": "3.6.9"
  }
 },
 "nbformat": 4,
 "nbformat_minor": 4
}
